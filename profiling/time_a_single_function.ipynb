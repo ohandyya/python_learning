{
 "cells": [
  {
   "cell_type": "markdown",
   "metadata": {},
   "source": [
    "# Time a single function"
   ]
  },
  {
   "cell_type": "code",
   "execution_count": 1,
   "metadata": {},
   "outputs": [],
   "source": [
    "import timeit"
   ]
  },
  {
   "cell_type": "code",
   "execution_count": 2,
   "metadata": {},
   "outputs": [],
   "source": [
    "# Define my function\n",
    "\n",
    "def myf(x: float, y: float, ratio=1.0):\n",
    "    return (x + y) * ratio"
   ]
  },
  {
   "cell_type": "code",
   "execution_count": 3,
   "metadata": {},
   "outputs": [
    {
     "name": "stdout",
     "output_type": "stream",
     "text": [
      "Time used to run myf for 100000 times = 0.0308 seconds\n"
     ]
    }
   ],
   "source": [
    "# Time myf with a particular x, y and ratio\n",
    "x_to_test = 5\n",
    "y_to_test = 10\n",
    "ratio_test = 100\n",
    "\n",
    "# Why we need to define a wrapper\n",
    "#   - When using the timeit.timeit interface, the first argument must be a callable WITHOUT arguments.\n",
    "#   - Therefore, we need to create a wrapper function, without arguments, that does the intended computation.\n",
    "def myf_wrapper():\n",
    "    return myf(x_to_test, y_to_test, ratio=ratio_test)\n",
    "\n",
    "number = 100000\n",
    "tused = timeit.timeit(myf_wrapper, number=number)\n",
    "print(f\"Time used to run myf for {number} times = {tused:.4f} seconds\")"
   ]
  },
  {
   "cell_type": "code",
   "execution_count": null,
   "metadata": {},
   "outputs": [],
   "source": []
  }
 ],
 "metadata": {
  "interpreter": {
   "hash": "2e32825c378c341dc94765fc47dd63cdda93a2a7e1c2618954f311507dc81b2a"
  },
  "kernelspec": {
   "display_name": "Python 3.8.12 64-bit ('p38': virtualenv)",
   "language": "python",
   "name": "python3"
  },
  "language_info": {
   "codemirror_mode": {
    "name": "ipython",
    "version": 3
   },
   "file_extension": ".py",
   "mimetype": "text/x-python",
   "name": "python",
   "nbconvert_exporter": "python",
   "pygments_lexer": "ipython3",
   "version": "3.8.12"
  },
  "orig_nbformat": 4
 },
 "nbformat": 4,
 "nbformat_minor": 2
}
